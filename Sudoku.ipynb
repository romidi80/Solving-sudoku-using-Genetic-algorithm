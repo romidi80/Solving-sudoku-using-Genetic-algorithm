{
 "cells": [
  {
   "cell_type": "markdown",
   "metadata": {},
   "source": [
    "# Solving sudoku, using Genetic algorithm "
   ]
  },
  {
   "cell_type": "markdown",
   "metadata": {},
   "source": [
    "## Goal:"
   ]
  },
  {
   "cell_type": "markdown",
   "metadata": {},
   "source": [
    "in this project, we are about to implement the sudoku problem in genetic description and solving our sudoku using this algorythm."
   ]
  },
  {
   "cell_type": "markdown",
   "metadata": {},
   "source": [
    "## Discription:"
   ]
  },
  {
   "cell_type": "markdown",
   "metadata": {},
   "source": [
    "first we are disscribing our problem in genetic problem-solving description.after implementing the gene and chromosome description, se would generate our first initial population of our chromosomes. for doing so we dont use any hint or information for creating each chromosome and we would generate them completely random. then we would define our fitness function wich is a parameter to generate better generation of each population. then by using fitness function we would create our new generation by using crossover and mutation methods. this methods and their implementation is discussed in following. at the we would use some methods to avoide population to not changing and stuck in the same generation. we would generate population if none of the chromosomes is the goal. to check if we have achieved to our goal statement we check the fitness."
   ]
  },
  {
   "cell_type": "markdown",
   "metadata": {},
   "source": [
    "**Gene:** each tile or square is regaregarded as a gene in yhis problem.\n",
    "\n",
    "**Chromosom:** each sudoku table is wich encludes 9 * 9 genes(tile) is regarded as one chromosome.\n",
    "\n",
    "so we define a class called chromosome wich includes an array of gene. each gene is each tile in a 9 * 9 sudoku so each chromosome would contain 81 genes. also for each chromosome, we would define a parameter called fitness wich would be calculated in calculate_fitness in the following code."
   ]
  },
  {
   "cell_type": "code",
   "execution_count": 2,
   "metadata": {},
   "outputs": [],
   "source": [
    "import numpy\n",
    "import random\n",
    "n = 9\n",
    "\n",
    "class Chromosome:\n",
    "    \n",
    "    def __init__(self, genes):\n",
    "        self.genes = genes\n",
    "        self.fitness = None\n",
    "        return\n",
    "    \n",
    "    def __lt__(self, other):\n",
    "        return self.fitness < other.fitness \n",
    "    \n",
    "    def calculate_fitness(self):\n",
    "        temp_row = numpy.zeros(n)\n",
    "        temp_column = numpy.zeros(n)\n",
    "        temp_block = numpy.zeros(n)\n",
    "        row_sum = 0\n",
    "        column_sum = 0\n",
    "        block_sum = 0\n",
    "        for i in range(0, n):\n",
    "            temp_row = set(self.genes[i])\n",
    "            row_sum += len(temp_row)\n",
    "            temp_row = numpy.zeros(n)\n",
    "\n",
    "        for i in range(0, n):   \n",
    "            temp_column = set(self.genes[:, i])\n",
    "            column_sum += len(temp_column)\n",
    "            temp_column = numpy.zeros(n)\n",
    "\n",
    "        for i in range(0, n, 3):\n",
    "            for j in range(0, n, 3):\n",
    "                temp_block = self.genes[i:i+3, j:j+3].reshape(1,n)[0]\n",
    "                block_sum += len(set(temp_block))\n",
    "                temp_block = numpy.zeros(n)\n",
    "        self.fitness = column_sum + block_sum + row_sum\n",
    "        return  \n",
    "\n",
    "    def mutate(self, mutation_rate, initTable):\n",
    "        constant_genes = numpy.array(numpy.transpose(numpy.nonzero(initTable)))\n",
    "        r = random.uniform(0, 1.1)\n",
    "        while(r > 1): \n",
    "            r = random.uniform(0, 1.1)\n",
    "        success = False\n",
    "        if (r < mutation_rate):\n",
    "            while(not success):\n",
    "                row = random.randint(0, n-1)\n",
    "                col = random.randint(0, n-1)  \n",
    "                new_gene = random.randint(1, n)\n",
    "                if(not [row,col] in constant_genes.tolist()):\n",
    "                    self.genes[row][col] = new_gene\n",
    "                    success = True\n",
    "    \n",
    "        return success"
   ]
  },
  {
   "cell_type": "markdown",
   "metadata": {},
   "source": [
    "**__lt__ :**  this function would compare two chromosomes by their fitness parameter. we say chromosome 1 is greater than chromosome 2 if fitness1 is greater and fitness2.\n",
    "\n",
    "\n",
    "**calculate_fitness:** this function calculate the fitness for each chromosome. for doing so, we count the number of different numbers in each row, column and each 3 * 3 box.\n",
    "so th max parameter of each of these parameters are 9.(when all volumes in each section are all diffrent).at last we do a summation over all these values. wich is 3 * (9 * 9 ) = 243. so our goal is to achive to this fitness. (remember that we are trying to fill the sudoku over none repeating numbrs from 1 to 9 in each row, col and box so that is the reason we define this function as so.)\n",
    "\n",
    "**mutate:** this function impliments a mutation method over an chromosome over condition that a random number is in range of mutation range.(this number has been valuated by trying different numbers for mutation range and finding the best numbr. and if the random number was in the mutation range we would choose a random row od the chromosome's gene array and 2 different tiles, and if none of them were constant and we would simply change their positions.\n",
    "\n",
    "**reason for implementation of mutation in this way:** the reason is when we achive to higher and bettr fitness in our generation, it seems that we have all our numbers in one of the all row or columns or box. so we dont have regenerate any new number and we can easily change to tile's posotions. it would avoid generation to nt generationg new chromosomes."
   ]
  },
  {
   "cell_type": "code",
   "execution_count": 3,
   "metadata": {},
   "outputs": [],
   "source": [
    "class Population():\n",
    "\n",
    "    def __init__(self):\n",
    "        self.chromosomes  = None\n",
    "        return\n",
    "\n",
    "    def create_population(self, numc, initTable):\n",
    "        row, col = numpy.nonzero(initTable)\n",
    "        self.chromosomes = []\n",
    "        for num in range (0,numc):\n",
    "            genes = numpy.random.randint(1,10,size=(9,9))\n",
    "            genes[row,col] = initTable[row,col]\n",
    "            new_chromosome = Chromosome(genes)\n",
    "            new_chromosome.calculate_fitness()\n",
    "            self.chromosomes.append(new_chromosome)\n",
    "        return\n",
    "    \n",
    "    def sort(self):\n",
    "        self.chromosomes.sort(reverse=True, key=self.sort_fitness)\n",
    "        return\n",
    "\n",
    "    def sort_fitness(self,x):\n",
    "        return x.fitness\n",
    "    \n",
    "    def creat_fitness_list(self):\n",
    "        fitness_list = []\n",
    "        for chrom in self.chromosomes:\n",
    "            fitness_list.append(chrom.fitness)       \n",
    "        return fitness_list\n",
    "        \n",
    "    def choose_parents(self, fitness_list):       \n",
    "        c1 = self.chromosomes[random.choices(range(0, len(self.chromosomes)), weights=fitness_list)[0]]\n",
    "        c2 = self.chromosomes[random.choices(range(0, len(self.chromosomes)), weights=fitness_list)[0]]\n",
    "\n",
    "        if(c1.fitness > c2.fitness):\n",
    "            fittest = c1\n",
    "            weakest = c2\n",
    "        else:\n",
    "            fittest = c2\n",
    "            weakest = c1\n",
    "\n",
    "        selection_rate = 0.85\n",
    "        r = random.uniform(0, 1.1)\n",
    "        while(r > 1):\n",
    "            r = random.uniform(0, 1.1)\n",
    "        if(r < selection_rate):\n",
    "            return fittest\n",
    "        else:\n",
    "            return weakest"
   ]
  },
  {
   "cell_type": "markdown",
   "metadata": {},
   "source": [
    "we wanted to have all our chromosome and in a better word, our population in an array and so we could be able to define some functions like crossover method over our population. so we define another class called population and we put an array of chromosomes in it. now description of each function:\n",
    "\n",
    "**create_population:** this function is used for generating our initial generation and population. for doing so, we simply generate 1000 (numc) random chromosomes but we should consider that ther are some constent tiles wich we dont want to be replaced by this random numbers.\n",
    "\n",
    "**reason for the number of population:** more than 1000 population would take a long time to generate and do crossover and mutation methods over this generation also less than 1000 wouldnt sometimes achive to goal state.\n",
    "\n",
    "**sort and  sort_fitness:** these methods are for sorting our chromosome based on their fitness for speeding up the process.\n",
    "\n",
    "**creat_fitness_list:** this function is used for returning the list of fitnesses in order to choose chromosomes in a weighted random way for crossover prosses. and each weight is based on fitnesses of each chromosome. The higher fitnes, the better chromosome. and it has more probability to be choosed.\n",
    "\n",
    "**choose_parents:** by using creat_fitness_list() function, now we are able to choose two parrent from our array of chromosomes to be regarded as the parents of 2 child in next generation. and we choose these cromosomes in a weighted random method eich we use their fitnesses as their weights. also we use an selection rate as one of our **hyper parameters** to pick the parrent with higher fitness with a higher probability for generating the next generation."
   ]
  },
  {
   "cell_type": "code",
   "execution_count": 4,
   "metadata": {},
   "outputs": [],
   "source": [
    "    def crossover(parent1, parent2, crossover_rate):\n",
    "        child1 = Chromosome(numpy.copy(parent1.genes))\n",
    "        child2 = Chromosome(numpy.copy(parent2.genes))\n",
    "        r = random.uniform(0, 1.1)\n",
    "        while(r > 1):\n",
    "            r = random.uniform(0, 1.1)\n",
    "        if (r < crossover_rate):  \n",
    "            bitmask = numpy.random.randint(2, size = n)\n",
    "            for i in range(0,n):\n",
    "                if bitmask[i] == 0:\n",
    "                    child1.genes[i] = parent1.genes[i]\n",
    "                    child2.genes[i] = parent2.genes[i]\n",
    "                else :\n",
    "                    child1.genes[i] = parent2.genes[i]\n",
    "                    child2.genes[i] = parent1.genes[i]\n",
    "            child1.calculate_fitness()\n",
    "            child2.calculate_fitness()\n",
    "        return child1, child2"
   ]
  },
  {
   "cell_type": "markdown",
   "metadata": {},
   "source": [
    "**crossover:**  this function would do an crossover method over two chromosomes called parents and we descrodescribe a cross over function over these two and generate two children chromosomes of them. to do so fisr we choose an crossover_rat wich in this problem we set this value to 1 so that it would do the cross over under any condition. then we generate a bitmask array wich contains n random value of 0 or 1. for each index if the bitmax value at this location is zero put the related index row of parent1 1 in child 2 and row[index] cparent 2 in child 2 and if it was 1 do reverse. at last we calculate theire fitnesses and return them. the reason for wich we change their row by row is that we dont want to change the orderd values in a row and we are hoping to achive to goal by using thesame rows but in a diffrdifferent order."
   ]
  },
  {
   "cell_type": "code",
   "execution_count": 5,
   "metadata": {},
   "outputs": [],
   "source": [
    "class Sudoku():\n",
    "\n",
    "    def __init__(self):\n",
    "        self.initTable = None\n",
    "        self.population = None\n",
    "        return\n",
    "    \n",
    "    def load(self, path):\n",
    "        with open(path, \"r\") as f:\n",
    "            genes = numpy.loadtxt(f).reshape((n, n)).astype(int)\n",
    "            self.initTable = Chromosome(genes)\n",
    "        return\n",
    "        \n",
    "    def solve(self):\n",
    "        numc = 1000\n",
    "        nume = int(0.05*numc)\n",
    "        numg = 1000\n",
    "        numm = 0\n",
    "        phi = 0\n",
    "        sigma = 1\n",
    "        mutation_rate = 0.06\n",
    "        stale = 0\n",
    "        \n",
    "        self.population = Population()\n",
    "        self.population.create_population(numc, self.initTable.genes) \n",
    "        print(self.initTable.genes)\n",
    "        for generation in range(0, numg):\n",
    "            #print(\"Generation : \", generation)\n",
    "            for c in range(0, numc):\n",
    "                fitness = self.population.chromosomes[c].fitness\n",
    "                if(fitness == 234):\n",
    "                    print(\"Solution found at generation \", generation, \"!\")\n",
    "                    print(\"fitness: \", self.population.chromosomes[c].fitness)\n",
    "                    return self.population.chromosomes[c].genes\n",
    "\n",
    "            # Create the next population.\n",
    "            next_population = []\n",
    "            self.population.sort()\n",
    "            elites = []\n",
    "            for e in range(0, nume):\n",
    "                elite = Chromosome(numpy.copy(self.population.chromosomes[e].genes))\n",
    "                elite.calculate_fitness()\n",
    "                elites.append(elite)\n",
    "            #print(\"fitness: \",elites[0].fitness)\n",
    "            \n",
    "             # Create the rest of the chromosomes.\n",
    "            for count in range(nume, numc, 2):\n",
    "                fitness_list = self.population.creat_fitness_list()\n",
    "                parent1 = self.population.choose_parents(fitness_list)\n",
    "                parent2 = self.population.choose_parents(fitness_list)          \n",
    "                child1, child2 = crossover(parent1, parent2, crossover_rate=1.0)\n",
    "                \n",
    "                old_fitness = child1.fitness\n",
    "                success = child1.mutate(mutation_rate, self.initTable.genes)\n",
    "                child1.calculate_fitness()\n",
    "                if(success):\n",
    "                    numm += 1\n",
    "                    if(child1.fitness > old_fitness):\n",
    "                        phi = phi + 1\n",
    "\n",
    "                old_fitness = child2.fitness\n",
    "                success = child2.mutate(mutation_rate, self.initTable.genes)\n",
    "                child2.calculate_fitness()\n",
    "                if(success):\n",
    "                    numm += 1\n",
    "                    if(child2.fitness > old_fitness):\n",
    "                        phi = phi + 1\n",
    "                next_population.append(child1)\n",
    "                next_population.append(child2)\n",
    "                \n",
    "            for e in range(0, nume):\n",
    "                next_population.append(elites[e])\n",
    "            self.population  = Population()\n",
    "            self.population.chromosomes = next_population\n",
    "\n",
    "            if(numm == 0):\n",
    "                phi = 0\n",
    "            else:\n",
    "                phi = phi / numm            \n",
    "            if(phi > 0.2):\n",
    "                sigma = sigma/0.998\n",
    "            elif(phi < 0.2):\n",
    "                sigma = sigma*0.998\n",
    "\n",
    "            mutation_rate = abs(numpy.random.normal(loc=0.0, scale=sigma, size=None))\n",
    "            numm = 0\n",
    "            phi = 0\n",
    "            \n",
    "            self.population.sort()\n",
    "            if(self.population.chromosomes[0].fitness != self.population.chromosomes[1].fitness):\n",
    "                stale = 0\n",
    "            else:\n",
    "                stale += 1\n",
    "                \n",
    "            if(stale >=100):\n",
    "                print(\"The population has gone stale. Re-generating...\")\n",
    "                self.population = Population()\n",
    "                self.population.create_population(numc, self.initTable.genes) \n",
    "                stale = 0\n",
    "                sigma = 1\n",
    "                phi = 0\n",
    "                numm = 0\n",
    "                mutation_rate = 0.06\n",
    "        \n",
    "        print(\"No solution found.\")\n",
    "        return None               "
   ]
  },
  {
   "cell_type": "markdown",
   "metadata": {},
   "source": [
    "**sudoku:** sudoku class is defined to be an higher level class to conects all parts together and control them. this class has two parameters. first one is the population wich it save a population of current generation in it.second paramter is the init table wich contains the raw board. so that we could solve the problem based on constent values.\n",
    "\n",
    "**solve:** solve finally solve the problem using all functions and methods wich we have implemented till now. because it is too long, we would break this code in parts and give a summary of each part.\n",
    "\n",
    "**part1-hyper parameters:** we define some hyper parameters in order to find the solution in such more efficient way and also avoide loosing good chromosomes after achieving to closer fitnesses to goal fitness and also to avoid generation to get stucked in a same generation.\n",
    "\n",
    "(**the reason that the algorythm might stuck in a sonstant generation is that the generation might get very simmilar chromosomes in that generation and also each posible children that could be generated from twi chromosomes, allready exists in the generation and also mutaion would decrease the fitness so mush that it would be removed and extincted after some generations.**) \n",
    "\n",
    "to avoid getting stuck, we use **stale** parameter wich stores the number of generation that the fitness hasn't changed for more than 100 generation. if so we would regenerate the nation. \n",
    "\n",
    "phi is for checking if the gneratin is converged enough or noy and sigma would control the rate of the changes.\n",
    "\n",
    "mutation,crossover and selection ranges has been discussed previously in the project and as we said they are used for controlling the rate of happening of these methods.then we have phi and sigma wich the idea of this is in refrence[6] wich are implimented to controll the rang of mutaion. as the best fitness in a generation gets higher it would limit the number of mutations to avoid loosing good chromosomes.\n",
    "\n",
    "**part2-generating the new population:** wich it self contains 3 part **1-** elites wich pass 0.06% of each generation to next generation. **2-** children of crossover method, **3-** mutated childrens. each part is defined priviously in project. the last part we have used a function to generate the mutation rate in order to controll aor generation.\n",
    "\n",
    "at last if we achiv to fitness 234 it means we have achived to goal and we will print out the tables."
   ]
  },
  {
   "cell_type": "code",
   "execution_count": 9,
   "metadata": {
    "scrolled": true
   },
   "outputs": [
    {
     "name": "stdout",
     "output_type": "stream",
     "text": [
      "[[8 0 6 0 0 0 1 0 7]\n",
      " [0 0 0 6 0 2 0 0 0]\n",
      " [0 5 3 0 0 4 8 0 6]\n",
      " [7 0 4 8 0 0 6 3 0]\n",
      " [0 0 0 0 0 0 0 9 0]\n",
      " [1 0 0 5 0 0 4 0 0]\n",
      " [0 0 1 2 0 0 7 0 9]\n",
      " [2 0 0 0 9 6 0 0 0]\n",
      " [0 7 0 0 1 0 0 8 0]]\n",
      "Solution found at generation  151 !\n",
      "fitness:  234\n",
      "[[8 2 6 9 5 3 1 5 7]\n",
      " [5 1 7 6 8 2 9 4 3]\n",
      " [9 5 3 1 7 4 8 2 6]\n",
      " [7 9 4 8 2 1 6 3 8]\n",
      " [3 6 5 4 3 7 2 9 1]\n",
      " [1 8 2 5 6 9 4 7 5]\n",
      " [4 3 1 2 8 5 7 6 9]\n",
      " [2 5 8 7 9 6 3 1 4]\n",
      " [6 7 9 4 1 3 5 8 2]]\n"
     ]
    }
   ],
   "source": [
    "s = Sudoku()\n",
    "s.load(\"Test1.txt\")\n",
    "solution = s.solve()\n",
    "print(solution)"
   ]
  },
  {
   "cell_type": "code",
   "execution_count": 6,
   "metadata": {},
   "outputs": [
    {
     "name": "stdout",
     "output_type": "stream",
     "text": [
      "[[0 6 0 2 0 0 0 7 1]\n",
      " [4 0 5 0 0 0 0 0 2]\n",
      " [3 0 0 0 8 0 6 9 0]\n",
      " [2 0 0 9 0 8 7 0 0]\n",
      " [0 9 3 0 0 0 8 0 0]\n",
      " [0 0 6 0 0 1 0 0 9]\n",
      " [0 8 7 0 3 0 0 0 6]\n",
      " [6 0 0 0 0 0 5 0 7]\n",
      " [0 0 0 0 0 9 0 2 0]]\n",
      "Solution found at generation  147 !\n",
      "fitness:  234\n",
      "[[9 6 8 2 4 5 3 7 1]\n",
      " [4 7 5 6 9 3 1 8 2]\n",
      " [3 2 1 5 8 7 6 9 4]\n",
      " [2 5 4 9 6 8 7 1 3]\n",
      " [7 9 3 2 5 4 8 6 5]\n",
      " [8 1 6 3 7 1 2 4 9]\n",
      " [1 8 7 4 3 2 9 5 6]\n",
      " [6 4 9 8 2 6 5 3 7]\n",
      " [5 3 2 7 1 9 4 2 8]]\n"
     ]
    }
   ],
   "source": [
    "s = Sudoku()\n",
    "s.load(\"Test2.txt\")\n",
    "solution = s.solve()\n",
    "print(solution)"
   ]
  },
  {
   "cell_type": "markdown",
   "metadata": {},
   "source": [
    "# Result :\n",
    "\n",
    "as we learned, genetic algorythms can be usefull in problems wich has a large amount of state and checking and searching over all these states might not be possible or it might take a long time or memmory. but as we see it might be stuck in a loop and not change and not find the solution. also because it is based on random acts, sometimes it would find a solution in a very fast time but sometimes it might not even achive to goal. at last it is goog for implimnting some problems such as so."
   ]
  },
  {
   "cell_type": "markdown",
   "metadata": {},
   "source": [
    "## References :"
   ]
  },
  {
   "cell_type": "markdown",
   "metadata": {},
   "source": [
    "1-https://github.com/philongvn99/Sudoku-Genetic-Algorithm/blob/main/sudoku.py\n",
    "    \n",
    "2 - https://stackoverflow.com/questions/9755538/how-do-i-create-a-list-of-random-numbers-without-duplicates\n",
    "    \n",
    "3 -https://pynative.com/python-weighted-random-choices-with-probability/\n",
    "\n",
    "4-https://www.w3schools.com/python/trypython.asp?filename=demo_ref_list_sort4\n",
    "\n",
    "5-https://pynative.com/python-weighted-random-choices-with-probability/"
   ]
  }
 ],
 "metadata": {
  "kernelspec": {
   "display_name": "Python 3",
   "language": "python",
   "name": "python3"
  },
  "language_info": {
   "codemirror_mode": {
    "name": "ipython",
    "version": 3
   },
   "file_extension": ".py",
   "mimetype": "text/x-python",
   "name": "python",
   "nbconvert_exporter": "python",
   "pygments_lexer": "ipython3",
   "version": "3.8.3"
  }
 },
 "nbformat": 4,
 "nbformat_minor": 4
}
